{
 "cells": [
  {
   "cell_type": "code",
   "execution_count": 116,
   "metadata": {},
   "outputs": [],
   "source": [
    "#Set working directory\n",
    "import matplotlib as plt\n",
    "import pandas as pd\n",
    "import os \n",
    "os.chdir(\"C:\\\\Users\\\\rohan\\\\Documents\\\\Analytics\\\\Data\\\\Bible\")"
   ]
  },
  {
   "cell_type": "code",
   "execution_count": 117,
   "metadata": {},
   "outputs": [
    {
     "name": "stdout",
     "output_type": "stream",
     "text": [
      "['Gen|1|1| In the beginning God created the heaven and the earth.~\\n', 'Gen|1|2| And the earth was without form, and void; and darkness was upon the face of the deep. And the Spirit of God moved upon the face of the waters.~\\n']\n"
     ]
    },
    {
     "data": {
      "text/plain": [
       "31102"
      ]
     },
     "execution_count": 117,
     "metadata": {},
     "output_type": "execute_result"
    }
   ],
   "source": [
    "#open the file\n",
    "text_file = open(\"kjvdat.txt\", \"r\")\n",
    "\n",
    "#read the lines\n",
    "lines = text_file.readlines()\n",
    "print(lines[0:2])\n",
    "\n",
    "#lines is of list data type\n",
    "type(lines)\n",
    "\n",
    "#Number of lines (verses)\n",
    "len(lines)"
   ]
  },
  {
   "cell_type": "code",
   "execution_count": 118,
   "metadata": {},
   "outputs": [
    {
     "name": "stdout",
     "output_type": "stream",
     "text": [
      "['In the beginning God created the heaven and the earth.', 'And the earth was without form, and void; and darkness was upon the face of the deep. And the Spirit of God moved upon the face of the waters.']\n"
     ]
    }
   ],
   "source": [
    "#Remove the book, chapter and verse from each line\n",
    "for i in range(0,len(lines)):\n",
    "    lines[i] = lines[i].split('| ')[1][:-2]\n",
    "    \n",
    "#Quick sanity check\n",
    "print(lines[0:2])"
   ]
  },
  {
   "cell_type": "code",
   "execution_count": 119,
   "metadata": {},
   "outputs": [
    {
     "name": "stdout",
     "output_type": "stream",
     "text": [
      "['in', 'the', 'beginning', 'god', 'created', 'the', 'heaven', 'and', 'the', 'earth', 'and', 'the', 'earth', 'was', 'without', 'form', 'and', 'void', 'and', 'darkness', 'was', 'upon', 'the', 'face', 'of', 'the', 'deep', 'and', 'the', 'spirit', 'of', 'god', 'moved', 'upon', 'the', 'face', 'of', 'the', 'waters', 'and', 'god', 'said', 'let', 'there', 'be', 'light', 'and', 'there', 'was', 'light', 'and', 'god', 'saw', 'the', 'light', 'that', 'it', 'was', 'good', 'and', 'god', 'divided', 'the', 'light', 'from', 'the', 'darkness', 'and', 'god', 'called', 'the', 'light', 'day', 'and', 'the', 'darkness', 'he', 'called', 'night', 'and', 'the', 'evening', 'and', 'the', 'morning', 'were', 'the', 'first', 'day', 'and', 'god', 'said', 'let', 'there', 'be', 'a', 'firmament', 'in', 'the', 'midst']\n"
     ]
    }
   ],
   "source": [
    "#Convert list to string\n",
    "bible = ' '.join(lines)\n",
    "\n",
    "#Convert all words to lower case\n",
    "bible = bible.lower()\n",
    "\n",
    "#Split string to separate out each word\n",
    "import re\n",
    "bible2 = re.findall(r\"[\\w']+\", bible)\n",
    "print(bible2[0:100])\n"
   ]
  },
  {
   "cell_type": "code",
   "execution_count": 120,
   "metadata": {},
   "outputs": [
    {
     "name": "stdout",
     "output_type": "stream",
     "text": [
      "Number of words in the bible :  789651\n"
     ]
    }
   ],
   "source": [
    "#Number of words in the bible\n",
    "print(\"Number of words in the bible : \", len(bible2))"
   ]
  },
  {
   "cell_type": "code",
   "execution_count": 121,
   "metadata": {},
   "outputs": [],
   "source": [
    "#Count the frequency of each word\n",
    "from collections import Counter\n",
    "#Word Frequency\n",
    "counts = Counter(bible2)"
   ]
  },
  {
   "cell_type": "code",
   "execution_count": 122,
   "metadata": {},
   "outputs": [
    {
     "name": "stdout",
     "output_type": "stream",
     "text": [
      "Number of unique words in the bible :  12843\n"
     ]
    },
    {
     "data": {
      "text/html": [
       "<div>\n",
       "<style scoped>\n",
       "    .dataframe tbody tr th:only-of-type {\n",
       "        vertical-align: middle;\n",
       "    }\n",
       "\n",
       "    .dataframe tbody tr th {\n",
       "        vertical-align: top;\n",
       "    }\n",
       "\n",
       "    .dataframe thead th {\n",
       "        text-align: right;\n",
       "    }\n",
       "</style>\n",
       "<table border=\"1\" class=\"dataframe\">\n",
       "  <thead>\n",
       "    <tr style=\"text-align: right;\">\n",
       "      <th></th>\n",
       "      <th>Word</th>\n",
       "      <th>Frequency</th>\n",
       "    </tr>\n",
       "  </thead>\n",
       "  <tbody>\n",
       "    <tr>\n",
       "      <th>1</th>\n",
       "      <td>the</td>\n",
       "      <td>63924</td>\n",
       "    </tr>\n",
       "    <tr>\n",
       "      <th>6</th>\n",
       "      <td>and</td>\n",
       "      <td>51696</td>\n",
       "    </tr>\n",
       "    <tr>\n",
       "      <th>15</th>\n",
       "      <td>of</td>\n",
       "      <td>34617</td>\n",
       "    </tr>\n",
       "    <tr>\n",
       "      <th>76</th>\n",
       "      <td>to</td>\n",
       "      <td>13562</td>\n",
       "    </tr>\n",
       "    <tr>\n",
       "      <th>26</th>\n",
       "      <td>that</td>\n",
       "      <td>12912</td>\n",
       "    </tr>\n",
       "    <tr>\n",
       "      <th>0</th>\n",
       "      <td>in</td>\n",
       "      <td>12667</td>\n",
       "    </tr>\n",
       "    <tr>\n",
       "      <th>33</th>\n",
       "      <td>he</td>\n",
       "      <td>10420</td>\n",
       "    </tr>\n",
       "    <tr>\n",
       "      <th>143</th>\n",
       "      <td>shall</td>\n",
       "      <td>9838</td>\n",
       "    </tr>\n",
       "    <tr>\n",
       "      <th>51</th>\n",
       "      <td>unto</td>\n",
       "      <td>8997</td>\n",
       "    </tr>\n",
       "    <tr>\n",
       "      <th>78</th>\n",
       "      <td>for</td>\n",
       "      <td>8971</td>\n",
       "    </tr>\n",
       "  </tbody>\n",
       "</table>\n",
       "</div>"
      ],
      "text/plain": [
       "      Word  Frequency\n",
       "1      the      63924\n",
       "6      and      51696\n",
       "15      of      34617\n",
       "76      to      13562\n",
       "26    that      12912\n",
       "0       in      12667\n",
       "33      he      10420\n",
       "143  shall       9838\n",
       "51    unto       8997\n",
       "78     for       8971"
      ]
     },
     "execution_count": 122,
     "metadata": {},
     "output_type": "execute_result"
    }
   ],
   "source": [
    "#Convert counter object to data frame\n",
    "word_count = pd.DataFrame.from_dict(counts, orient='index').reset_index()\n",
    "word_count.rename(columns = {'index' : 'Word',0:'Frequency'},inplace = True)\n",
    "word_count = word_count.sort_values('Frequency',ascending=False)\n",
    "\n",
    "#Number of unique words\n",
    "print(\"Number of unique words in the bible : \", len(word_count))\n",
    "\n",
    "#Top ten words\n",
    "word_count.head(10)"
   ]
  },
  {
   "cell_type": "code",
   "execution_count": 123,
   "metadata": {},
   "outputs": [
    {
     "data": {
      "text/html": [
       "<div>\n",
       "<style scoped>\n",
       "    .dataframe tbody tr th:only-of-type {\n",
       "        vertical-align: middle;\n",
       "    }\n",
       "\n",
       "    .dataframe tbody tr th {\n",
       "        vertical-align: top;\n",
       "    }\n",
       "\n",
       "    .dataframe thead th {\n",
       "        text-align: right;\n",
       "    }\n",
       "</style>\n",
       "<table border=\"1\" class=\"dataframe\">\n",
       "  <thead>\n",
       "    <tr style=\"text-align: right;\">\n",
       "      <th></th>\n",
       "      <th>Word</th>\n",
       "      <th>Frequency</th>\n",
       "    </tr>\n",
       "  </thead>\n",
       "  <tbody>\n",
       "    <tr>\n",
       "      <th>10863</th>\n",
       "      <td>jesus</td>\n",
       "      <td>973</td>\n",
       "    </tr>\n",
       "  </tbody>\n",
       "</table>\n",
       "</div>"
      ],
      "text/plain": [
       "        Word  Frequency\n",
       "10863  jesus        973"
      ]
     },
     "execution_count": 123,
     "metadata": {},
     "output_type": "execute_result"
    }
   ],
   "source": [
    "#Number of times Jesus appears\n",
    "word_count[word_count['Word'] == \"jesus\"]\n"
   ]
  },
  {
   "cell_type": "code",
   "execution_count": 124,
   "metadata": {},
   "outputs": [
    {
     "name": "stdout",
     "output_type": "stream",
     "text": [
      "['the', 'and', 'of', 'to', 'that', 'in', 'he', 'shall', 'unto', 'for', 'i', 'his', 'a', 'lord', 'they', 'be', 'is', 'him', 'not']\n"
     ]
    }
   ],
   "source": [
    "#Number of times god appears\n",
    "word_count[word_count['Word'] == \"god\"]\n",
    "ab = word_count['Word'][0:19]\n",
    "abc = ab.tolist()\n",
    "print(abc)\n"
   ]
  },
  {
   "cell_type": "code",
   "execution_count": 125,
   "metadata": {},
   "outputs": [
    {
     "name": "stderr",
     "output_type": "stream",
     "text": [
      "C:\\Users\\rohan\\Anaconda3\\lib\\site-packages\\seaborn\\categorical.py:1460: FutureWarning: remove_na is deprecated and is a private function. Do not use.\n",
      "  stat_data = remove_na(group_data)\n"
     ]
    },
    {
     "data": {
      "image/png": "[encoded data removed]",
      "text/plain": [
       "<matplotlib.figure.Figure at 0x2078f5ca3c8>"
      ]
     },
     "metadata": {},
     "output_type": "display_data"
    }
   ],
   "source": [
    "#Line plot with seaborn\n",
    "import matplotlib.pyplot as plt\n",
    "import numpy as np\n",
    "import seaborn as sns\n",
    "\n",
    "g = sns.factorplot(x='Word',y='Frequency',data=word_count[0:19])\n",
    "g.set_xticklabels(rotation=90)\n",
    "plt.show()"
   ]
  },
  {
   "cell_type": "code",
   "execution_count": 126,
   "metadata": {},
   "outputs": [
    {
     "name": "stdout",
     "output_type": "stream",
     "text": [
      "[nltk_data] Downloading package stopwords to\n",
      "[nltk_data]     C:\\Users\\rohan\\AppData\\Roaming\\nltk_data...\n",
      "[nltk_data]   Package stopwords is already up-to-date!\n"
     ]
    },
    {
     "data": {
      "text/plain": [
       "True"
      ]
     },
     "execution_count": 126,
     "metadata": {},
     "output_type": "execute_result"
    }
   ],
   "source": [
    "#Import stop words\n",
    "import io\n",
    "import nltk\n",
    "from nltk.corpus import stopwords\n",
    "from nltk.tokenize import word_tokenize\n",
    "nltk.download(\"stopwords\")"
   ]
  },
  {
   "cell_type": "code",
   "execution_count": 127,
   "metadata": {},
   "outputs": [
    {
     "name": "stdout",
     "output_type": "stream",
     "text": [
      "{'when', 'in', 'those', 'into', 'me', 'herself', 'we', 'if', \"aren't\", 'out', 'such', \"needn't\", 'our', 'has', 'again', 'how', 'who', 't', 'below', 'further', 'shan', \"you'll\", 'i', 'hasn', 'ma', 'above', 'she', 'this', 'an', 'doing', 'nor', 'myself', 'it', 'what', 'by', \"isn't\", 'from', 'down', 'mightn', 'their', 'mustn', 'up', 'or', \"it's\", 'until', 'no', 'these', 'so', \"shan't\", 'isn', 'during', 'here', 'are', 'once', 'can', 'does', 'over', 'theirs', 'themselves', 'to', 'own', 'about', 'd', 'didn', \"she's\", 'with', 'needn', 'the', 'through', 'some', 'than', 'other', \"you'd\", 'ours', 'wouldn', 'after', 'ourselves', 'where', 'they', \"don't\", 'be', 'weren', \"you've\", 'there', 'yours', 'shouldn', 'being', 'at', \"mustn't\", 'same', 'its', 'doesn', 'each', 're', 'on', 'is', 'between', 'now', 'my', 's', 'that', 've', \"haven't\", 'have', 'few', 'her', 'against', 'won', 'which', 'm', \"you're\", 'hadn', 'were', 'having', \"mightn't\", 'for', 'more', 'a', 'too', 'under', 'his', 'hers', \"that'll\", 'was', 'll', \"doesn't\", 'off', 'y', 'all', 'because', 'am', 'why', 'not', 'itself', 'couldn', 'as', 'will', 'he', 'them', 'yourselves', 'yourself', 'been', 'only', \"didn't\", 'aren', \"wasn't\", 'then', \"wouldn't\", 'ain', 'himself', 'do', 'haven', \"shouldn't\", \"weren't\", 'most', 'did', 'your', 'don', \"hasn't\", 'before', 'o', 'wasn', 'both', 'him', \"hadn't\", \"won't\", 'whom', 'had', 'should', 'just', 'you', 'but', 'very', 'any', \"should've\", \"couldn't\", 'of', 'and', 'while'}\n"
     ]
    },
    {
     "data": {
      "text/plain": [
       "set"
      ]
     },
     "execution_count": 127,
     "metadata": {},
     "output_type": "execute_result"
    }
   ],
   "source": [
    "#import stop words\n",
    "stop = set(stopwords.words('english'))\n",
    "print(stop)\n",
    "type(stop)"
   ]
  },
  {
   "cell_type": "code",
   "execution_count": 128,
   "metadata": {},
   "outputs": [
    {
     "data": {
      "text/html": [
       "<div>\n",
       "<style scoped>\n",
       "    .dataframe tbody tr th:only-of-type {\n",
       "        vertical-align: middle;\n",
       "    }\n",
       "\n",
       "    .dataframe tbody tr th {\n",
       "        vertical-align: top;\n",
       "    }\n",
       "\n",
       "    .dataframe thead th {\n",
       "        text-align: right;\n",
       "    }\n",
       "</style>\n",
       "<table border=\"1\" class=\"dataframe\">\n",
       "  <thead>\n",
       "    <tr style=\"text-align: right;\">\n",
       "      <th></th>\n",
       "      <th>Word</th>\n",
       "      <th>Frequency</th>\n",
       "    </tr>\n",
       "  </thead>\n",
       "  <tbody>\n",
       "    <tr>\n",
       "      <th>143</th>\n",
       "      <td>shall</td>\n",
       "      <td>9838</td>\n",
       "    </tr>\n",
       "    <tr>\n",
       "      <th>51</th>\n",
       "      <td>unto</td>\n",
       "      <td>8997</td>\n",
       "    </tr>\n",
       "    <tr>\n",
       "      <th>166</th>\n",
       "      <td>lord</td>\n",
       "      <td>7830</td>\n",
       "    </tr>\n",
       "    <tr>\n",
       "      <th>231</th>\n",
       "      <td>thou</td>\n",
       "      <td>5474</td>\n",
       "    </tr>\n",
       "    <tr>\n",
       "      <th>321</th>\n",
       "      <td>thy</td>\n",
       "      <td>4600</td>\n",
       "    </tr>\n",
       "  </tbody>\n",
       "</table>\n",
       "</div>"
      ],
      "text/plain": [
       "      Word  Frequency\n",
       "143  shall       9838\n",
       "51    unto       8997\n",
       "166   lord       7830\n",
       "231   thou       5474\n",
       "321    thy       4600"
      ]
     },
     "execution_count": 128,
     "metadata": {},
     "output_type": "execute_result"
    }
   ],
   "source": [
    "#Remove stop words from the dataframe\n",
    "word_count2 = word_count[~word_count['Word'].isin(stop)]\n",
    "word_count2.head()"
   ]
  },
  {
   "cell_type": "code",
   "execution_count": 129,
   "metadata": {},
   "outputs": [
    {
     "name": "stderr",
     "output_type": "stream",
     "text": [
      "C:\\Users\\rohan\\Anaconda3\\lib\\site-packages\\seaborn\\categorical.py:1460: FutureWarning: remove_na is deprecated and is a private function. Do not use.\n",
      "  stat_data = remove_na(group_data)\n"
     ]
    },
    {
     "data": {
      "image/png": "[encoded data removed]",
      "text/plain": [
       "<matplotlib.figure.Figure at 0x20792b19cc0>"
      ]
     },
     "metadata": {},
     "output_type": "display_data"
    }
   ],
   "source": [
    "#Plot top 10 words after removing stop words\n",
    "g = sns.factorplot(x='Word',y='Frequency',data=word_count2[0:19])\n",
    "g.set_xticklabels(rotation=90)\n",
    "plt.show()"
   ]
  },
  {
   "cell_type": "code",
   "execution_count": 130,
   "metadata": {},
   "outputs": [],
   "source": [
    "#Function to plot a dispersion graph\n",
    "def dispersion(word):\n",
    "    d = list()\n",
    "    for i in range(0,len(bible2)):\n",
    "        if bible2[i] == word:\n",
    "            d.append(i)\n",
    "\n",
    "    fig, ax = plt.subplots()\n",
    "    ax.vlines(d, 0, 1, edgecolor=\"black\") # <-- ANSWER\n",
    "    ax.set_xlim([0, len(bible2)]) # set the lower and upper limits of graph\n",
    "    ax.set_xlabel('narrative time')\n",
    "    ax.set_xticks([0],minor=True) # turn off: ax.set_xticks([])\n",
    "    ax.set_ylabel(word) # turn off by droping this line\n",
    "    ax.set_yticks([])\n",
    "    fig.set_figheight(1)\n",
    "    plt.show()"
   ]
  },
  {
   "cell_type": "code",
   "execution_count": 131,
   "metadata": {},
   "outputs": [
    {
     "data": {
      "image/png": "[encoded data removed]",
      "text/plain": [
       "<matplotlib.figure.Figure at 0x207fa05f240>"
      ]
     },
     "metadata": {},
     "output_type": "display_data"
    }
   ],
   "source": [
    "#Dispersion plot for Jesus\n",
    "dispersion('jesus')"
   ]
  },
  {
   "cell_type": "code",
   "execution_count": 132,
   "metadata": {},
   "outputs": [
    {
     "data": {
      "image/png": "[encoded data removed]",
      "text/plain": [
       "<matplotlib.figure.Figure at 0x207fa02ff28>"
      ]
     },
     "metadata": {},
     "output_type": "display_data"
    }
   ],
   "source": [
    "#Dispersion plot for God\n",
    "dispersion('god')"
   ]
  },
  {
   "cell_type": "code",
   "execution_count": 133,
   "metadata": {},
   "outputs": [
    {
     "data": {
      "image/png": "[encoded data removed]",
      "text/plain": [
       "<matplotlib.figure.Figure at 0x2078fc97668>"
      ]
     },
     "metadata": {},
     "output_type": "display_data"
    }
   ],
   "source": [
    "#Dispersion plot for Satan\n",
    "dispersion('satan')"
   ]
  },
  {
   "cell_type": "code",
   "execution_count": 134,
   "metadata": {},
   "outputs": [
    {
     "data": {
      "image/png": "[encoded data removed]",
      "text/plain": [
       "<matplotlib.figure.Figure at 0x2078fc85b00>"
      ]
     },
     "metadata": {},
     "output_type": "display_data"
    }
   ],
   "source": [
    "#Dispersion plot for moses\n",
    "dispersion('moses')"
   ]
  },
  {
   "cell_type": "code",
   "execution_count": 135,
   "metadata": {},
   "outputs": [
    {
     "data": {
      "image/png": "[encoded data removed]",
      "text/plain": [
       "<matplotlib.figure.Figure at 0x2078fc96ef0>"
      ]
     },
     "metadata": {},
     "output_type": "display_data"
    }
   ],
   "source": [
    "#Dispersion plot for david\n",
    "dispersion('david')"
   ]
  },
  {
   "cell_type": "code",
   "execution_count": 137,
   "metadata": {},
   "outputs": [
    {
     "data": {
      "image/png": "[encoded data removed]",
      "text/plain": [
       "<matplotlib.figure.Figure at 0x2078fd33748>"
      ]
     },
     "metadata": {},
     "output_type": "display_data"
    }
   ],
   "source": [
    "#Dispersion plot for Ishmael\n",
    "dispersion('elisha')"
   ]
  },
  {
   "cell_type": "code",
   "execution_count": null,
   "metadata": {},
   "outputs": [],
   "source": []
  },
  {
   "cell_type": "code",
   "execution_count": null,
   "metadata": {},
   "outputs": [],
   "source": []
  }
 ],
 "metadata": {
  "kernelspec": {
   "display_name": "Python 3",
   "language": "python",
   "name": "python3"
  }
 },
 "nbformat": 4,
 "nbformat_minor": 2
}
